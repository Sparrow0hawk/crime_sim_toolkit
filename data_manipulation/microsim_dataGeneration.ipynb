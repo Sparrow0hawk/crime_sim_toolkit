{
 "cells": [
  {
   "cell_type": "markdown",
   "metadata": {},
   "source": [
    "## Jupyter notebook for the reproducible generation of test input data\n",
    "\n",
    "The expected input data to the microsimulation tool in the crime_sim_toolkit is highly similar to police uk data expect also including victim demographic details.\n",
    "\n",
    "This notebook aims to take standard data from https://data.police.uk/ and randomly allocate victim demographic data in order to represent expected input data. "
   ]
  },
  {
   "cell_type": "code",
   "execution_count": 3,
   "metadata": {},
   "outputs": [],
   "source": [
    "import modin.pandas as pds\n",
    "import glob\n",
    "import pandas as pd\n",
    "import numpy as np\n",
    "import matplotlib.pyplot as plt"
   ]
  },
  {
   "cell_type": "code",
   "execution_count": 4,
   "metadata": {},
   "outputs": [],
   "source": [
    "# load output area lookup table - from opendata portal\n",
    "\n",
    "lookup_table = pd.read_csv('http://geoportal1-ons.opendata.arcgis.com/datasets/fe6c55f0924b4734adf1cf7104a0173e_0.csv')"
   ]
  },
  {
   "cell_type": "code",
   "execution_count": 5,
   "metadata": {},
   "outputs": [],
   "source": [
    "# function for loading monthly police data csvs\n",
    "\n",
    "def load_police_csv(year=2017, engine=\"pandas\"):\n",
    "    \n",
    "    if engine == \"pandas\":\n",
    "        \n",
    "        prefix = pd\n",
    "    \n",
    "    elif engine == \"modin\":\n",
    "        \n",
    "        prefix = pds\n",
    "    \n",
    "    file_list = glob.glob('../scrapbook/data/pol_dat/*')\n",
    "    \n",
    "    year_str = str(year)\n",
    "    \n",
    "    selected_files = [file for file in file_list if year_str in file]\n",
    "    \n",
    "    print('Number of files found: ',len(selected_files))\n",
    "    \n",
    "    files_combo = []\n",
    "    \n",
    "    for file in selected_files:\n",
    "\n",
    "            open_file = prefix.read_csv(file)\n",
    "\n",
    "            files_combo.append(open_file)\n",
    "\n",
    "    combined_files = prefix.concat(files_combo, axis=0)\n",
    "\n",
    "    combined_files.reset_index(inplace=True, drop=True)\n",
    "    \n",
    "    return combined_files"
   ]
  },
  {
   "cell_type": "code",
   "execution_count": 6,
   "metadata": {},
   "outputs": [
    {
     "name": "stdout",
     "output_type": "stream",
     "text": [
      "Number of files found:  12\n"
     ]
    }
   ],
   "source": [
    "pol_dat_2017 = load_police_csv(year=2017, engine=\"pandas\")"
   ]
  },
  {
   "cell_type": "code",
   "execution_count": 7,
   "metadata": {},
   "outputs": [
    {
     "data": {
      "text/plain": [
       "(320006, 12)"
      ]
     },
     "execution_count": 7,
     "metadata": {},
     "output_type": "execute_result"
    }
   ],
   "source": [
    "pol_dat_2017.shape"
   ]
  },
  {
   "cell_type": "code",
   "execution_count": 8,
   "metadata": {},
   "outputs": [],
   "source": [
    "pol_dat_2017 = pol_dat_2017.drop('Context', axis=1).dropna()\n",
    "\n",
    "pol_dat_2017.reset_index(drop=True, inplace=True)"
   ]
  },
  {
   "cell_type": "code",
   "execution_count": 9,
   "metadata": {},
   "outputs": [
    {
     "data": {
      "text/html": [
       "<div>\n",
       "<style scoped>\n",
       "    .dataframe tbody tr th:only-of-type {\n",
       "        vertical-align: middle;\n",
       "    }\n",
       "\n",
       "    .dataframe tbody tr th {\n",
       "        vertical-align: top;\n",
       "    }\n",
       "\n",
       "    .dataframe thead th {\n",
       "        text-align: right;\n",
       "    }\n",
       "</style>\n",
       "<table border=\"1\" class=\"dataframe\">\n",
       "  <thead>\n",
       "    <tr style=\"text-align: right;\">\n",
       "      <th></th>\n",
       "      <th>Crime ID</th>\n",
       "      <th>Month</th>\n",
       "      <th>Reported by</th>\n",
       "      <th>Falls within</th>\n",
       "      <th>Longitude</th>\n",
       "      <th>Latitude</th>\n",
       "      <th>Location</th>\n",
       "      <th>LSOA code</th>\n",
       "      <th>LSOA name</th>\n",
       "      <th>Crime type</th>\n",
       "      <th>Last outcome category</th>\n",
       "    </tr>\n",
       "  </thead>\n",
       "  <tbody>\n",
       "    <tr>\n",
       "      <th>0</th>\n",
       "      <td>ed5e6cc15caffcd1d1993d57dd12bd3b5462db330fc3c2...</td>\n",
       "      <td>2017-10</td>\n",
       "      <td>West Yorkshire Police</td>\n",
       "      <td>West Yorkshire Police</td>\n",
       "      <td>-1.764583</td>\n",
       "      <td>53.534617</td>\n",
       "      <td>On or near Park/Open Space</td>\n",
       "      <td>E01007426</td>\n",
       "      <td>Barnsley 027D</td>\n",
       "      <td>Burglary</td>\n",
       "      <td>Investigation complete; no suspect identified</td>\n",
       "    </tr>\n",
       "    <tr>\n",
       "      <th>1</th>\n",
       "      <td>eae51159cf301b4fc5fe8350d4b89212455b448388e6a7...</td>\n",
       "      <td>2017-10</td>\n",
       "      <td>West Yorkshire Police</td>\n",
       "      <td>West Yorkshire Police</td>\n",
       "      <td>-1.863065</td>\n",
       "      <td>53.939035</td>\n",
       "      <td>On or near Low Mill</td>\n",
       "      <td>E01010646</td>\n",
       "      <td>Bradford 001A</td>\n",
       "      <td>Burglary</td>\n",
       "      <td>Status update unavailable</td>\n",
       "    </tr>\n",
       "    <tr>\n",
       "      <th>2</th>\n",
       "      <td>5e22e40d676365342bb7de2869639bb05d8265316abc21...</td>\n",
       "      <td>2017-10</td>\n",
       "      <td>West Yorkshire Police</td>\n",
       "      <td>West Yorkshire Police</td>\n",
       "      <td>-1.876367</td>\n",
       "      <td>53.942950</td>\n",
       "      <td>On or near Croft House Fold</td>\n",
       "      <td>E01010646</td>\n",
       "      <td>Bradford 001A</td>\n",
       "      <td>Violence and sexual offences</td>\n",
       "      <td>Unable to prosecute suspect</td>\n",
       "    </tr>\n",
       "    <tr>\n",
       "      <th>3</th>\n",
       "      <td>48a8de992ba49e0e1c3c87c5da641b538079e0f2478bb8...</td>\n",
       "      <td>2017-10</td>\n",
       "      <td>West Yorkshire Police</td>\n",
       "      <td>West Yorkshire Police</td>\n",
       "      <td>-1.882481</td>\n",
       "      <td>53.924936</td>\n",
       "      <td>On or near Moorside Lane</td>\n",
       "      <td>E01010646</td>\n",
       "      <td>Bradford 001A</td>\n",
       "      <td>Violence and sexual offences</td>\n",
       "      <td>Unable to prosecute suspect</td>\n",
       "    </tr>\n",
       "    <tr>\n",
       "      <th>4</th>\n",
       "      <td>35f45581ef68c665f5b2c892ec6efcae0d482b6ee3e1b1...</td>\n",
       "      <td>2017-10</td>\n",
       "      <td>West Yorkshire Police</td>\n",
       "      <td>West Yorkshire Police</td>\n",
       "      <td>-1.876367</td>\n",
       "      <td>53.942950</td>\n",
       "      <td>On or near Croft House Fold</td>\n",
       "      <td>E01010646</td>\n",
       "      <td>Bradford 001A</td>\n",
       "      <td>Violence and sexual offences</td>\n",
       "      <td>Action to be taken by another organisation</td>\n",
       "    </tr>\n",
       "  </tbody>\n",
       "</table>\n",
       "</div>"
      ],
      "text/plain": [
       "                                            Crime ID    Month  \\\n",
       "0  ed5e6cc15caffcd1d1993d57dd12bd3b5462db330fc3c2...  2017-10   \n",
       "1  eae51159cf301b4fc5fe8350d4b89212455b448388e6a7...  2017-10   \n",
       "2  5e22e40d676365342bb7de2869639bb05d8265316abc21...  2017-10   \n",
       "3  48a8de992ba49e0e1c3c87c5da641b538079e0f2478bb8...  2017-10   \n",
       "4  35f45581ef68c665f5b2c892ec6efcae0d482b6ee3e1b1...  2017-10   \n",
       "\n",
       "             Reported by           Falls within  Longitude   Latitude  \\\n",
       "0  West Yorkshire Police  West Yorkshire Police  -1.764583  53.534617   \n",
       "1  West Yorkshire Police  West Yorkshire Police  -1.863065  53.939035   \n",
       "2  West Yorkshire Police  West Yorkshire Police  -1.876367  53.942950   \n",
       "3  West Yorkshire Police  West Yorkshire Police  -1.882481  53.924936   \n",
       "4  West Yorkshire Police  West Yorkshire Police  -1.876367  53.942950   \n",
       "\n",
       "                      Location  LSOA code      LSOA name  \\\n",
       "0   On or near Park/Open Space  E01007426  Barnsley 027D   \n",
       "1          On or near Low Mill  E01010646  Bradford 001A   \n",
       "2  On or near Croft House Fold  E01010646  Bradford 001A   \n",
       "3     On or near Moorside Lane  E01010646  Bradford 001A   \n",
       "4  On or near Croft House Fold  E01010646  Bradford 001A   \n",
       "\n",
       "                     Crime type                          Last outcome category  \n",
       "0                      Burglary  Investigation complete; no suspect identified  \n",
       "1                      Burglary                      Status update unavailable  \n",
       "2  Violence and sexual offences                    Unable to prosecute suspect  \n",
       "3  Violence and sexual offences                    Unable to prosecute suspect  \n",
       "4  Violence and sexual offences     Action to be taken by another organisation  "
      ]
     },
     "execution_count": 9,
     "metadata": {},
     "output_type": "execute_result"
    }
   ],
   "source": [
    "pol_dat_2017.head()"
   ]
  },
  {
   "cell_type": "code",
   "execution_count": 10,
   "metadata": {},
   "outputs": [
    {
     "data": {
      "text/plain": [
       "(245012, 11)"
      ]
     },
     "execution_count": 10,
     "metadata": {},
     "output_type": "execute_result"
    }
   ],
   "source": [
    "pol_dat_2017.shape"
   ]
  },
  {
   "cell_type": "code",
   "execution_count": 11,
   "metadata": {},
   "outputs": [],
   "source": [
    "pol_dat_2017['LSOA11CD'] = pol_dat_2017['LSOA code']\n",
    "\n",
    "pol_dat_2017.drop('LSOA code', axis=1, inplace=True)"
   ]
  },
  {
   "cell_type": "code",
   "execution_count": 12,
   "metadata": {},
   "outputs": [],
   "source": [
    "pol_dat_2017 = pd.merge(pol_dat_2017, lookup_table[['LSOA11CD','MSOA11CD']], on='LSOA11CD', how='inner').drop_duplicates()\n",
    "\n",
    "pol_dat_2017.reset_index(drop=True, inplace=True)"
   ]
  },
  {
   "cell_type": "code",
   "execution_count": 13,
   "metadata": {},
   "outputs": [],
   "source": [
    "## transform synthetic population into full population table for west yorkshire or MSOA level\n",
    "\n",
    "pop_2017 = pd.read_csv('../scrapbook/data/LeedsLADdata/ssm_E08000035_MSOA11_ppp_2017.csv')"
   ]
  },
  {
   "cell_type": "code",
   "execution_count": 14,
   "metadata": {},
   "outputs": [],
   "source": [
    "# function for loading monthly police data csvs\n",
    "\n",
    "def load_pop(year=2017, engine=\"pandas\"):\n",
    "    \n",
    "    if engine == \"pandas\":\n",
    "        \n",
    "        prefix = pd\n",
    "    \n",
    "    elif engine == \"modin\":\n",
    "        \n",
    "        prefix = pds\n",
    "    \n",
    "    file_list = glob.glob('../scrapbook/data/WYP_spenser_data/*')\n",
    "    \n",
    "    year_str = str(year)\n",
    "    \n",
    "    selected_files = [file for file in file_list if year_str in file]\n",
    "    \n",
    "    print('Number of files found: ',len(selected_files))\n",
    "    \n",
    "    files_combo = []\n",
    "    \n",
    "    for file in selected_files:\n",
    "\n",
    "            open_file = prefix.read_csv(file)\n",
    "\n",
    "            files_combo.append(open_file)\n",
    "\n",
    "    combined_files = prefix.concat(files_combo, axis=0)\n",
    "\n",
    "    combined_files.reset_index(inplace=True, drop=True)\n",
    "    \n",
    "    return combined_files"
   ]
  },
  {
   "cell_type": "code",
   "execution_count": 15,
   "metadata": {},
   "outputs": [
    {
     "name": "stdout",
     "output_type": "stream",
     "text": [
      "Number of files found:  5\n"
     ]
    }
   ],
   "source": [
    "pop_2017 = load_pop()"
   ]
  },
  {
   "cell_type": "code",
   "execution_count": 16,
   "metadata": {},
   "outputs": [],
   "source": [
    "pop_2017['multi_cat_col'] = pop_2017.DC1117EW_C_SEX.astype(str) + '-' + pop_2017.DC1117EW_C_AGE.astype(str) + '-' + pop_2017.DC2101EW_C_ETHPUK11.astype(str)"
   ]
  },
  {
   "cell_type": "code",
   "execution_count": 17,
   "metadata": {},
   "outputs": [
    {
     "data": {
      "text/plain": [
       "2-86-2    26113\n",
       "2-47-2    13437\n",
       "1-47-2    13339\n",
       "1-86-2    13295\n",
       "2-48-2    13137\n",
       "          ...  \n",
       "2-69-4        2\n",
       "2-80-4        1\n",
       "1-79-4        1\n",
       "1-83-4        1\n",
       "1-78-4        1\n",
       "Name: multi_cat_col, Length: 3095, dtype: int64"
      ]
     },
     "execution_count": 17,
     "metadata": {},
     "output_type": "execute_result"
    }
   ],
   "source": [
    "pop_2017['multi_cat_col'].value_counts()"
   ]
  },
  {
   "cell_type": "code",
   "execution_count": 18,
   "metadata": {},
   "outputs": [
    {
     "data": {
      "text/plain": [
       "2302328"
      ]
     },
     "execution_count": 18,
     "metadata": {},
     "output_type": "execute_result"
    }
   ],
   "source": [
    "pop_2017['multi_cat_col'].value_counts().sum()"
   ]
  },
  {
   "cell_type": "code",
   "execution_count": 19,
   "metadata": {},
   "outputs": [],
   "source": [
    "# get a series of proportions of demographic groups\n",
    "demographic_prop = pop_2017['multi_cat_col'].value_counts() / pop_2017['multi_cat_col'].value_counts().sum()"
   ]
  },
  {
   "cell_type": "code",
   "execution_count": 20,
   "metadata": {},
   "outputs": [
    {
     "data": {
      "text/plain": [
       "array([1.13419982e-02, 5.83626660e-03, 5.79370098e-03, ...,\n",
       "       4.34342978e-07, 4.34342978e-07, 4.34342978e-07])"
      ]
     },
     "execution_count": 20,
     "metadata": {},
     "output_type": "execute_result"
    }
   ],
   "source": [
    "demographic_prop.values"
   ]
  },
  {
   "cell_type": "code",
   "execution_count": 21,
   "metadata": {},
   "outputs": [
    {
     "data": {
      "text/plain": [
       "'1-57-2'"
      ]
     },
     "execution_count": 21,
     "metadata": {},
     "output_type": "execute_result"
    }
   ],
   "source": [
    "# random choice using proportions \n",
    "np.random.choice(demographic_prop.index, p=demographic_prop.values)"
   ]
  },
  {
   "cell_type": "code",
   "execution_count": 22,
   "metadata": {},
   "outputs": [],
   "source": [
    "pol_dat_2017['victim_profile'] = pol_dat_2017.apply(lambda x: np.random.choice(demographic_prop.index, p=demographic_prop.values), axis=1)"
   ]
  },
  {
   "cell_type": "code",
   "execution_count": 23,
   "metadata": {},
   "outputs": [],
   "source": [
    "# get proportions of populations and check they approximately match\n",
    "\n",
    "generated_demo_prop = pol_dat_2017['victim_profile'].value_counts() / pol_dat_2017['victim_profile'].value_counts().sum()\n",
    "\n",
    "actual_demo_prop = pop_2017['multi_cat_col'].value_counts() / pop_2017['multi_cat_col'].value_counts().sum()\n"
   ]
  },
  {
   "cell_type": "code",
   "execution_count": 24,
   "metadata": {},
   "outputs": [
    {
     "name": "stderr",
     "output_type": "stream",
     "text": [
      "FutureWarning: Sorting because non-concatenation axis is not aligned. A future version\n",
      "of pandas will change to not sort by default.\n",
      "\n",
      "To accept the future behavior, pass 'sort=False'.\n",
      "\n",
      "To retain the current behavior and silence the warning, pass 'sort=True'.\n",
      "\n"
     ]
    },
    {
     "data": {
      "image/png": "[encoded data removed]",
      "text/plain": [
       "<Figure size 432x288 with 1 Axes>"
      ]
     },
     "metadata": {
      "needs_background": "light"
     },
     "output_type": "display_data"
    }
   ],
   "source": [
    "counts_compare = pd.concat([generated_demo_prop, actual_demo_prop], axis=1)\n",
    "\n",
    "counts_compare.columns = ['random_sampled','2017_synthetic_pop']\n",
    "\n",
    "counts_compare.sort_values(by=['random_sampled','2017_synthetic_pop'], ascending=False)[:15].plot.bar()\n",
    "\n",
    "plt.title('Comparing randomly allocated and \\n actual demographic proportions')\n",
    "\n",
    "plt.savefig('outputs/random_victim_profiles_top10.png', format='png', bbox_inches='tight')"
   ]
  },
  {
   "cell_type": "code",
   "execution_count": 25,
   "metadata": {},
   "outputs": [
    {
     "data": {
      "text/html": [
       "<div>\n",
       "<style scoped>\n",
       "    .dataframe tbody tr th:only-of-type {\n",
       "        vertical-align: middle;\n",
       "    }\n",
       "\n",
       "    .dataframe tbody tr th {\n",
       "        vertical-align: top;\n",
       "    }\n",
       "\n",
       "    .dataframe thead th {\n",
       "        text-align: right;\n",
       "    }\n",
       "</style>\n",
       "<table border=\"1\" class=\"dataframe\">\n",
       "  <thead>\n",
       "    <tr style=\"text-align: right;\">\n",
       "      <th></th>\n",
       "      <th>Crime ID</th>\n",
       "      <th>Month</th>\n",
       "      <th>Reported by</th>\n",
       "      <th>Falls within</th>\n",
       "      <th>Longitude</th>\n",
       "      <th>Latitude</th>\n",
       "      <th>Location</th>\n",
       "      <th>LSOA name</th>\n",
       "      <th>Crime type</th>\n",
       "      <th>Last outcome category</th>\n",
       "      <th>LSOA11CD</th>\n",
       "      <th>MSOA11CD</th>\n",
       "      <th>victim_profile</th>\n",
       "    </tr>\n",
       "  </thead>\n",
       "  <tbody>\n",
       "    <tr>\n",
       "      <th>0</th>\n",
       "      <td>ed5e6cc15caffcd1d1993d57dd12bd3b5462db330fc3c2...</td>\n",
       "      <td>2017-10</td>\n",
       "      <td>West Yorkshire Police</td>\n",
       "      <td>West Yorkshire Police</td>\n",
       "      <td>-1.764583</td>\n",
       "      <td>53.534617</td>\n",
       "      <td>On or near Park/Open Space</td>\n",
       "      <td>Barnsley 027D</td>\n",
       "      <td>Burglary</td>\n",
       "      <td>Investigation complete; no suspect identified</td>\n",
       "      <td>E01007426</td>\n",
       "      <td>E02001535</td>\n",
       "      <td>2-66-2</td>\n",
       "    </tr>\n",
       "    <tr>\n",
       "      <th>1</th>\n",
       "      <td>3d074ff1d8ea40781b1eae18dcda27e94c33cca0da31df...</td>\n",
       "      <td>2017-03</td>\n",
       "      <td>West Yorkshire Police</td>\n",
       "      <td>West Yorkshire Police</td>\n",
       "      <td>-1.670108</td>\n",
       "      <td>53.553629</td>\n",
       "      <td>On or near Huddersfield Road</td>\n",
       "      <td>Barnsley 027D</td>\n",
       "      <td>Other theft</td>\n",
       "      <td>Investigation complete; no suspect identified</td>\n",
       "      <td>E01007426</td>\n",
       "      <td>E02001535</td>\n",
       "      <td>1-44-2</td>\n",
       "    </tr>\n",
       "    <tr>\n",
       "      <th>2</th>\n",
       "      <td>e214a5b554799a92b2e95512274001928bceb1d677b1cf...</td>\n",
       "      <td>2017-03</td>\n",
       "      <td>West Yorkshire Police</td>\n",
       "      <td>West Yorkshire Police</td>\n",
       "      <td>-1.724364</td>\n",
       "      <td>53.557200</td>\n",
       "      <td>On or near Hey Slack Lane</td>\n",
       "      <td>Barnsley 027D</td>\n",
       "      <td>Other theft</td>\n",
       "      <td>Investigation complete; no suspect identified</td>\n",
       "      <td>E01007426</td>\n",
       "      <td>E02001535</td>\n",
       "      <td>1-18-2</td>\n",
       "    </tr>\n",
       "    <tr>\n",
       "      <th>3</th>\n",
       "      <td>dc49a93f22f277264513f4bd9861b273ae99a571e7909d...</td>\n",
       "      <td>2017-07</td>\n",
       "      <td>West Yorkshire Police</td>\n",
       "      <td>West Yorkshire Police</td>\n",
       "      <td>-1.706334</td>\n",
       "      <td>53.549364</td>\n",
       "      <td>On or near Brown'S Edge Road</td>\n",
       "      <td>Barnsley 027D</td>\n",
       "      <td>Burglary</td>\n",
       "      <td>Investigation complete; no suspect identified</td>\n",
       "      <td>E01007426</td>\n",
       "      <td>E02001535</td>\n",
       "      <td>2-86-2</td>\n",
       "    </tr>\n",
       "    <tr>\n",
       "      <th>4</th>\n",
       "      <td>e3f824bdf749192c3fdcc80d3099b03bc8d8d9436a9c1c...</td>\n",
       "      <td>2017-07</td>\n",
       "      <td>West Yorkshire Police</td>\n",
       "      <td>West Yorkshire Police</td>\n",
       "      <td>-1.670108</td>\n",
       "      <td>53.553629</td>\n",
       "      <td>On or near Huddersfield Road</td>\n",
       "      <td>Barnsley 027D</td>\n",
       "      <td>Theft from the person</td>\n",
       "      <td>Investigation complete; no suspect identified</td>\n",
       "      <td>E01007426</td>\n",
       "      <td>E02001535</td>\n",
       "      <td>1-47-2</td>\n",
       "    </tr>\n",
       "  </tbody>\n",
       "</table>\n",
       "</div>"
      ],
      "text/plain": [
       "                                            Crime ID    Month  \\\n",
       "0  ed5e6cc15caffcd1d1993d57dd12bd3b5462db330fc3c2...  2017-10   \n",
       "1  3d074ff1d8ea40781b1eae18dcda27e94c33cca0da31df...  2017-03   \n",
       "2  e214a5b554799a92b2e95512274001928bceb1d677b1cf...  2017-03   \n",
       "3  dc49a93f22f277264513f4bd9861b273ae99a571e7909d...  2017-07   \n",
       "4  e3f824bdf749192c3fdcc80d3099b03bc8d8d9436a9c1c...  2017-07   \n",
       "\n",
       "             Reported by           Falls within  Longitude   Latitude  \\\n",
       "0  West Yorkshire Police  West Yorkshire Police  -1.764583  53.534617   \n",
       "1  West Yorkshire Police  West Yorkshire Police  -1.670108  53.553629   \n",
       "2  West Yorkshire Police  West Yorkshire Police  -1.724364  53.557200   \n",
       "3  West Yorkshire Police  West Yorkshire Police  -1.706334  53.549364   \n",
       "4  West Yorkshire Police  West Yorkshire Police  -1.670108  53.553629   \n",
       "\n",
       "                       Location      LSOA name             Crime type  \\\n",
       "0    On or near Park/Open Space  Barnsley 027D               Burglary   \n",
       "1  On or near Huddersfield Road  Barnsley 027D            Other theft   \n",
       "2     On or near Hey Slack Lane  Barnsley 027D            Other theft   \n",
       "3  On or near Brown'S Edge Road  Barnsley 027D               Burglary   \n",
       "4  On or near Huddersfield Road  Barnsley 027D  Theft from the person   \n",
       "\n",
       "                           Last outcome category   LSOA11CD   MSOA11CD  \\\n",
       "0  Investigation complete; no suspect identified  E01007426  E02001535   \n",
       "1  Investigation complete; no suspect identified  E01007426  E02001535   \n",
       "2  Investigation complete; no suspect identified  E01007426  E02001535   \n",
       "3  Investigation complete; no suspect identified  E01007426  E02001535   \n",
       "4  Investigation complete; no suspect identified  E01007426  E02001535   \n",
       "\n",
       "  victim_profile  \n",
       "0         2-66-2  \n",
       "1         1-44-2  \n",
       "2         1-18-2  \n",
       "3         2-86-2  \n",
       "4         1-47-2  "
      ]
     },
     "execution_count": 25,
     "metadata": {},
     "output_type": "execute_result"
    }
   ],
   "source": [
    "pol_dat_2017.head()"
   ]
  },
  {
   "cell_type": "code",
   "execution_count": 26,
   "metadata": {},
   "outputs": [],
   "source": [
    "# we'll assume victim profile is separated in data frame so will separate this combined values\n",
    "\n",
    "expanded_demo = pol_dat_2017['victim_profile'].str.split('-', expand=True)\n",
    "\n",
    "expanded_demo.columns = ['sex','age','ethnicity']\n",
    "\n",
    "pol_dat_2017 = pd.concat([pol_dat_2017, expanded_demo], axis=1)"
   ]
  },
  {
   "cell_type": "code",
   "execution_count": 27,
   "metadata": {},
   "outputs": [],
   "source": [
    "pol_dat_2017.columns\n",
    "\n",
    "pol_dat_2017.columns = ['Crime_ID', 'Month', 'Reported_by', 'Falls_within', 'Longitude',\n",
    "       'Latitude', 'Location', 'LSOA_name', 'Crime_type',\n",
    "       'Last_outcome_category', 'LSOA_code', 'MSOA11CD', 'victim_profile',\n",
    "       'sex', 'age', 'ethnicity']"
   ]
  },
  {
   "cell_type": "code",
   "execution_count": 28,
   "metadata": {},
   "outputs": [],
   "source": [
    "# add in function to add more specific crime types\n",
    "import pandas as pd\n",
    "import numpy as np\n",
    "import pkg_resources\n",
    "\n",
    "resource_package = 'crime_sim_toolkit'\n",
    "\n",
    "\n",
    "def populate_offence(crime_frame):\n",
    "    \"\"\"\n",
    "    Function for adding in more specific offense descriptions based on Police\n",
    "    Recorded Crime Data tables.\n",
    "\n",
    "    Profiled run on test data:\n",
    "    # ver2\n",
    "    CPU times: user 2min 19s, sys: 2.09 s, total: 2min 21s\n",
    "    Wall time: 2min 21s\n",
    "    \"\"\"\n",
    "\n",
    "    # format columns to remove spaces\n",
    "    crime_frame.columns = crime_frame.columns.str.replace(' ','_')\n",
    "\n",
    "    # initially load reference tables\n",
    "    LSOA_pf_reference = pd.read_csv(pkg_resources.resource_filename(resource_package, 'src/LSOA_data/PoliceforceLSOA.csv'),\n",
    "                                    index_col=0)\n",
    "\n",
    "    descriptions_reference = pd.read_csv(pkg_resources.resource_filename(resource_package, 'src/prc-pfa-201718_new.csv'),\n",
    "                             index_col=0)\n",
    "\n",
    "    # test if the first instance in LSOA code is within police force frame?\n",
    "    # if value is not in the list of police forces from reference frame\n",
    "    # add police force column\n",
    "    if crime_frame['LSOA_code'].unique().tolist()[0] not in LSOA_pf_reference.Police_force.tolist():\n",
    "\n",
    "        crime_frame['Police_force'] = crime_frame.LSOA_code.map(lambda x: LSOA_pf_reference[LSOA_pf_reference['LSOA Code'].isin([x])].Police_force.tolist()[0])\n",
    "\n",
    "    # else convert LSOA_code to Police_force column\n",
    "    else:\n",
    "\n",
    "        crime_frame['Police_force'] = crime_frame['LSOA_code']\n",
    "\n",
    "    list_of_slices = []\n",
    "\n",
    "    # for each police force within the passed crime reports data frame\n",
    "    for police_force in crime_frame.Police_force.unique():\n",
    "\n",
    "        # slice a frame for data in a specific police force\n",
    "        shortened_frame = crime_frame[crime_frame['Police_force'] == police_force].copy()\n",
    "\n",
    "        # create sliced frame of crime description proportions by police force\n",
    "        descriptions_slice = descriptions_reference[descriptions_reference['Force_Name'].isin([police_force])]\n",
    "\n",
    "        # create pivot table for random allocating weighting\n",
    "        # this creates a table of offence description percentages for each Policeuk_Cat\n",
    "        pivoted_slice = ((descriptions_slice.groupby(['Policeuk_Cat','Offence_Group','Offence_Description'])['Number_of_Offences'].sum() \\\n",
    "        / descriptions_slice.groupby(['Policeuk_Cat'])['Number_of_Offences'].sum())).reset_index()\n",
    "\n",
    "        # add a Crime_description column that is generated by taking each Crime_type (Policeuk_cat)\n",
    "        # and using np.random.choice to randomly allocate a Crime description for the given Crime_type\n",
    "        # weighted by the percentages in the pivot table created above\n",
    "        shortened_frame['Crime_description'] = shortened_frame['Crime_type'].map(lambda x: np.random.choice(\n",
    "                                                                                 # specify list of choices of crime_descriptions for given crime_cat\n",
    "                                                                                 pivoted_slice[pivoted_slice.Policeuk_Cat.str.lower().isin([x.lower()])].Offence_Description.tolist(),\n",
    "                                                                                 # make one choice\n",
    "                                                                                 1,\n",
    "                                                                                 # specify weights for selecting Crime_description\n",
    "                                                                                 # if there isn't a match between two dataframes (for anti-social behaviour)\n",
    "                                                                                 # just use Crime_type as Crime Description\n",
    "                                                                                 # outcome: all Anti-social behaviour cases have that as crime description\n",
    "                                                                                 p = pivoted_slice[pivoted_slice.Policeuk_Cat.str.lower().isin([x.lower()])].Number_of_Offences.tolist())[0] if len(pivoted_slice[pivoted_slice.Policeuk_Cat.str.lower().isin([x.lower()])]) > 0 else x)\n",
    "\n",
    "        shortened_frame.Crime_description = shortened_frame.Crime_description.str.lower()\n",
    "\n",
    "        list_of_slices.append(shortened_frame)\n",
    "\n",
    "    populated_frame = pd.concat(list_of_slices)\n",
    "\n",
    "\n",
    "    return populated_frame"
   ]
  },
  {
   "cell_type": "code",
   "execution_count": 29,
   "metadata": {},
   "outputs": [],
   "source": [
    "pol_dat_2017 = populate_offence(pol_dat_2017)"
   ]
  },
  {
   "cell_type": "code",
   "execution_count": 30,
   "metadata": {},
   "outputs": [
    {
     "data": {
      "text/html": [
       "<div>\n",
       "<style scoped>\n",
       "    .dataframe tbody tr th:only-of-type {\n",
       "        vertical-align: middle;\n",
       "    }\n",
       "\n",
       "    .dataframe tbody tr th {\n",
       "        vertical-align: top;\n",
       "    }\n",
       "\n",
       "    .dataframe thead th {\n",
       "        text-align: right;\n",
       "    }\n",
       "</style>\n",
       "<table border=\"1\" class=\"dataframe\">\n",
       "  <thead>\n",
       "    <tr style=\"text-align: right;\">\n",
       "      <th></th>\n",
       "      <th>Crime_ID</th>\n",
       "      <th>Month</th>\n",
       "      <th>Reported_by</th>\n",
       "      <th>Falls_within</th>\n",
       "      <th>Longitude</th>\n",
       "      <th>Latitude</th>\n",
       "      <th>Location</th>\n",
       "      <th>LSOA_name</th>\n",
       "      <th>Crime_type</th>\n",
       "      <th>Last_outcome_category</th>\n",
       "      <th>LSOA_code</th>\n",
       "      <th>MSOA11CD</th>\n",
       "      <th>victim_profile</th>\n",
       "      <th>sex</th>\n",
       "      <th>age</th>\n",
       "      <th>ethnicity</th>\n",
       "      <th>Police_force</th>\n",
       "      <th>Crime_description</th>\n",
       "    </tr>\n",
       "  </thead>\n",
       "  <tbody>\n",
       "    <tr>\n",
       "      <th>0</th>\n",
       "      <td>ed5e6cc15caffcd1d1993d57dd12bd3b5462db330fc3c2...</td>\n",
       "      <td>2017-10</td>\n",
       "      <td>West Yorkshire Police</td>\n",
       "      <td>West Yorkshire Police</td>\n",
       "      <td>-1.764583</td>\n",
       "      <td>53.534617</td>\n",
       "      <td>On or near Park/Open Space</td>\n",
       "      <td>Barnsley 027D</td>\n",
       "      <td>Burglary</td>\n",
       "      <td>Investigation complete; no suspect identified</td>\n",
       "      <td>E01007426</td>\n",
       "      <td>E02001535</td>\n",
       "      <td>2-66-2</td>\n",
       "      <td>2</td>\n",
       "      <td>66</td>\n",
       "      <td>2</td>\n",
       "      <td>South Yorkshire</td>\n",
       "      <td>burglary business and community</td>\n",
       "    </tr>\n",
       "    <tr>\n",
       "      <th>1</th>\n",
       "      <td>3d074ff1d8ea40781b1eae18dcda27e94c33cca0da31df...</td>\n",
       "      <td>2017-03</td>\n",
       "      <td>West Yorkshire Police</td>\n",
       "      <td>West Yorkshire Police</td>\n",
       "      <td>-1.670108</td>\n",
       "      <td>53.553629</td>\n",
       "      <td>On or near Huddersfield Road</td>\n",
       "      <td>Barnsley 027D</td>\n",
       "      <td>Other theft</td>\n",
       "      <td>Investigation complete; no suspect identified</td>\n",
       "      <td>E01007426</td>\n",
       "      <td>E02001535</td>\n",
       "      <td>1-44-2</td>\n",
       "      <td>1</td>\n",
       "      <td>44</td>\n",
       "      <td>2</td>\n",
       "      <td>South Yorkshire</td>\n",
       "      <td>other theft</td>\n",
       "    </tr>\n",
       "    <tr>\n",
       "      <th>2</th>\n",
       "      <td>e214a5b554799a92b2e95512274001928bceb1d677b1cf...</td>\n",
       "      <td>2017-03</td>\n",
       "      <td>West Yorkshire Police</td>\n",
       "      <td>West Yorkshire Police</td>\n",
       "      <td>-1.724364</td>\n",
       "      <td>53.557200</td>\n",
       "      <td>On or near Hey Slack Lane</td>\n",
       "      <td>Barnsley 027D</td>\n",
       "      <td>Other theft</td>\n",
       "      <td>Investigation complete; no suspect identified</td>\n",
       "      <td>E01007426</td>\n",
       "      <td>E02001535</td>\n",
       "      <td>1-18-2</td>\n",
       "      <td>1</td>\n",
       "      <td>18</td>\n",
       "      <td>2</td>\n",
       "      <td>South Yorkshire</td>\n",
       "      <td>other theft</td>\n",
       "    </tr>\n",
       "    <tr>\n",
       "      <th>3</th>\n",
       "      <td>dc49a93f22f277264513f4bd9861b273ae99a571e7909d...</td>\n",
       "      <td>2017-07</td>\n",
       "      <td>West Yorkshire Police</td>\n",
       "      <td>West Yorkshire Police</td>\n",
       "      <td>-1.706334</td>\n",
       "      <td>53.549364</td>\n",
       "      <td>On or near Brown'S Edge Road</td>\n",
       "      <td>Barnsley 027D</td>\n",
       "      <td>Burglary</td>\n",
       "      <td>Investigation complete; no suspect identified</td>\n",
       "      <td>E01007426</td>\n",
       "      <td>E02001535</td>\n",
       "      <td>2-86-2</td>\n",
       "      <td>2</td>\n",
       "      <td>86</td>\n",
       "      <td>2</td>\n",
       "      <td>South Yorkshire</td>\n",
       "      <td>attempted burglary residential</td>\n",
       "    </tr>\n",
       "    <tr>\n",
       "      <th>4</th>\n",
       "      <td>e3f824bdf749192c3fdcc80d3099b03bc8d8d9436a9c1c...</td>\n",
       "      <td>2017-07</td>\n",
       "      <td>West Yorkshire Police</td>\n",
       "      <td>West Yorkshire Police</td>\n",
       "      <td>-1.670108</td>\n",
       "      <td>53.553629</td>\n",
       "      <td>On or near Huddersfield Road</td>\n",
       "      <td>Barnsley 027D</td>\n",
       "      <td>Theft from the person</td>\n",
       "      <td>Investigation complete; no suspect identified</td>\n",
       "      <td>E01007426</td>\n",
       "      <td>E02001535</td>\n",
       "      <td>1-47-2</td>\n",
       "      <td>1</td>\n",
       "      <td>47</td>\n",
       "      <td>2</td>\n",
       "      <td>South Yorkshire</td>\n",
       "      <td>theft from the person</td>\n",
       "    </tr>\n",
       "  </tbody>\n",
       "</table>\n",
       "</div>"
      ],
      "text/plain": [
       "                                            Crime_ID    Month  \\\n",
       "0  ed5e6cc15caffcd1d1993d57dd12bd3b5462db330fc3c2...  2017-10   \n",
       "1  3d074ff1d8ea40781b1eae18dcda27e94c33cca0da31df...  2017-03   \n",
       "2  e214a5b554799a92b2e95512274001928bceb1d677b1cf...  2017-03   \n",
       "3  dc49a93f22f277264513f4bd9861b273ae99a571e7909d...  2017-07   \n",
       "4  e3f824bdf749192c3fdcc80d3099b03bc8d8d9436a9c1c...  2017-07   \n",
       "\n",
       "             Reported_by           Falls_within  Longitude   Latitude  \\\n",
       "0  West Yorkshire Police  West Yorkshire Police  -1.764583  53.534617   \n",
       "1  West Yorkshire Police  West Yorkshire Police  -1.670108  53.553629   \n",
       "2  West Yorkshire Police  West Yorkshire Police  -1.724364  53.557200   \n",
       "3  West Yorkshire Police  West Yorkshire Police  -1.706334  53.549364   \n",
       "4  West Yorkshire Police  West Yorkshire Police  -1.670108  53.553629   \n",
       "\n",
       "                       Location      LSOA_name             Crime_type  \\\n",
       "0    On or near Park/Open Space  Barnsley 027D               Burglary   \n",
       "1  On or near Huddersfield Road  Barnsley 027D            Other theft   \n",
       "2     On or near Hey Slack Lane  Barnsley 027D            Other theft   \n",
       "3  On or near Brown'S Edge Road  Barnsley 027D               Burglary   \n",
       "4  On or near Huddersfield Road  Barnsley 027D  Theft from the person   \n",
       "\n",
       "                           Last_outcome_category  LSOA_code   MSOA11CD  \\\n",
       "0  Investigation complete; no suspect identified  E01007426  E02001535   \n",
       "1  Investigation complete; no suspect identified  E01007426  E02001535   \n",
       "2  Investigation complete; no suspect identified  E01007426  E02001535   \n",
       "3  Investigation complete; no suspect identified  E01007426  E02001535   \n",
       "4  Investigation complete; no suspect identified  E01007426  E02001535   \n",
       "\n",
       "  victim_profile sex age ethnicity     Police_force  \\\n",
       "0         2-66-2   2  66         2  South Yorkshire   \n",
       "1         1-44-2   1  44         2  South Yorkshire   \n",
       "2         1-18-2   1  18         2  South Yorkshire   \n",
       "3         2-86-2   2  86         2  South Yorkshire   \n",
       "4         1-47-2   1  47         2  South Yorkshire   \n",
       "\n",
       "                 Crime_description  \n",
       "0  burglary business and community  \n",
       "1                      other theft  \n",
       "2                      other theft  \n",
       "3   attempted burglary residential  \n",
       "4            theft from the person  "
      ]
     },
     "execution_count": 30,
     "metadata": {},
     "output_type": "execute_result"
    }
   ],
   "source": [
    "pol_dat_2017.head()"
   ]
  },
  {
   "cell_type": "code",
   "execution_count": 31,
   "metadata": {},
   "outputs": [],
   "source": [
    "# randomly sample from 2017 dataset to give 5% of it for testing\n",
    "pol_dat_2017.sample(frac=0.01).to_csv('../crime_sim_toolkit/tests/testing_data/test_microsim/sample_vic_data_WY2017.csv', index=None)"
   ]
  },
  {
   "cell_type": "code",
   "execution_count": 32,
   "metadata": {},
   "outputs": [],
   "source": [
    "# save this file out as a .csv \n",
    "\n",
    "pol_dat_2017.to_csv('data/2017_WY_crimes_victimdemo.csv', index=None)"
   ]
  },
  {
   "cell_type": "code",
   "execution_count": null,
   "metadata": {},
   "outputs": [],
   "source": []
  }
 ],
 "metadata": {
  "kernelspec": {
   "display_name": "Python 3",
   "language": "python",
   "name": "python3"
  },
  "language_info": {
   "codemirror_mode": {
    "name": "ipython",
    "version": 3
   },
   "file_extension": ".py",
   "mimetype": "text/x-python",
   "name": "python",
   "nbconvert_exporter": "python",
   "pygments_lexer": "ipython3",
   "version": "3.7.6"
  }
 },
 "nbformat": 4,
 "nbformat_minor": 4
}
