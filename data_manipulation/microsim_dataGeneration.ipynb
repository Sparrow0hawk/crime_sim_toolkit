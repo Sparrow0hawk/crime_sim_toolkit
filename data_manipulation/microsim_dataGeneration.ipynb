{
 "cells": [
  {
   "cell_type": "markdown",
   "metadata": {},
   "source": [
    "## Jupyter notebook for the reproducible generation of test input data\n",
    "\n",
    "The expected input data to the microsimulation tool in the crime_sim_toolkit is highly similar to police uk data expect also including victim demographic details.\n",
    "\n",
    "This notebook aims to take standard data from https://data.police.uk/ and randomly allocate victim demographic data in order to represent expected input data. "
   ]
  },
  {
   "cell_type": "code",
   "execution_count": 4,
   "metadata": {},
   "outputs": [],
   "source": [
    "import modin.pandas as pds\n",
    "import glob\n",
    "import pandas as pd\n",
    "import numpy as np\n",
    "import matplotlib.pyplot as plt"
   ]
  },
  {
   "cell_type": "code",
   "execution_count": 5,
   "metadata": {},
   "outputs": [],
   "source": [
    "# load output area lookup table - from opendata portal\n",
    "\n",
    "lookup_table = pd.read_csv('http://geoportal1-ons.opendata.arcgis.com/datasets/fe6c55f0924b4734adf1cf7104a0173e_0.csv')"
   ]
  },
  {
   "cell_type": "code",
   "execution_count": 6,
   "metadata": {},
   "outputs": [],
   "source": [
    "# function for loading monthly police data csvs\n",
    "\n",
    "def load_police_csv(year=2017, engine=\"pandas\"):\n",
    "    \n",
    "    if engine == \"pandas\":\n",
    "        \n",
    "        prefix = pd\n",
    "    \n",
    "    elif engine == \"modin\":\n",
    "        \n",
    "        prefix = pds\n",
    "    \n",
    "    file_list = glob.glob('../scrapbook/data/pol_dat/*')\n",
    "    \n",
    "    year_str = str(year)\n",
    "    \n",
    "    selected_files = [file for file in file_list if year_str in file]\n",
    "    \n",
    "    print('Number of files found: ',len(selected_files))\n",
    "    \n",
    "    files_combo = []\n",
    "    \n",
    "    for file in selected_files:\n",
    "\n",
    "            open_file = prefix.read_csv(file)\n",
    "\n",
    "            files_combo.append(open_file)\n",
    "\n",
    "    combined_files = prefix.concat(files_combo, axis=0)\n",
    "\n",
    "    combined_files.reset_index(inplace=True, drop=True)\n",
    "    \n",
    "    return combined_files"
   ]
  },
  {
   "cell_type": "code",
   "execution_count": 7,
   "metadata": {},
   "outputs": [
    {
     "name": "stdout",
     "output_type": "stream",
     "text": [
      "Number of files found:  12\n"
     ]
    }
   ],
   "source": [
    "pol_dat_2017 = load_police_csv(year=2017, engine=\"pandas\")"
   ]
  },
  {
   "cell_type": "code",
   "execution_count": 8,
   "metadata": {},
   "outputs": [
    {
     "data": {
      "text/plain": [
       "(320006, 12)"
      ]
     },
     "execution_count": 8,
     "metadata": {},
     "output_type": "execute_result"
    }
   ],
   "source": [
    "pol_dat_2017.shape"
   ]
  },
  {
   "cell_type": "code",
   "execution_count": 9,
   "metadata": {},
   "outputs": [],
   "source": [
    "pol_dat_2017 = pol_dat_2017.drop('Context', axis=1).dropna()\n",
    "\n",
    "pol_dat_2017.reset_index(drop=True, inplace=True)"
   ]
  },
  {
   "cell_type": "code",
   "execution_count": 10,
   "metadata": {},
   "outputs": [
    {
     "data": {
      "text/html": [
       "<div>\n",
       "<style scoped>\n",
       "    .dataframe tbody tr th:only-of-type {\n",
       "        vertical-align: middle;\n",
       "    }\n",
       "\n",
       "    .dataframe tbody tr th {\n",
       "        vertical-align: top;\n",
       "    }\n",
       "\n",
       "    .dataframe thead th {\n",
       "        text-align: right;\n",
       "    }\n",
       "</style>\n",
       "<table border=\"1\" class=\"dataframe\">\n",
       "  <thead>\n",
       "    <tr style=\"text-align: right;\">\n",
       "      <th></th>\n",
       "      <th>Crime ID</th>\n",
       "      <th>Month</th>\n",
       "      <th>Reported by</th>\n",
       "      <th>Falls within</th>\n",
       "      <th>Longitude</th>\n",
       "      <th>Latitude</th>\n",
       "      <th>Location</th>\n",
       "      <th>LSOA code</th>\n",
       "      <th>LSOA name</th>\n",
       "      <th>Crime type</th>\n",
       "      <th>Last outcome category</th>\n",
       "    </tr>\n",
       "  </thead>\n",
       "  <tbody>\n",
       "    <tr>\n",
       "      <th>0</th>\n",
       "      <td>ed5e6cc15caffcd1d1993d57dd12bd3b5462db330fc3c2...</td>\n",
       "      <td>2017-10</td>\n",
       "      <td>West Yorkshire Police</td>\n",
       "      <td>West Yorkshire Police</td>\n",
       "      <td>-1.764583</td>\n",
       "      <td>53.534617</td>\n",
       "      <td>On or near Park/Open Space</td>\n",
       "      <td>E01007426</td>\n",
       "      <td>Barnsley 027D</td>\n",
       "      <td>Burglary</td>\n",
       "      <td>Investigation complete; no suspect identified</td>\n",
       "    </tr>\n",
       "    <tr>\n",
       "      <th>1</th>\n",
       "      <td>eae51159cf301b4fc5fe8350d4b89212455b448388e6a7...</td>\n",
       "      <td>2017-10</td>\n",
       "      <td>West Yorkshire Police</td>\n",
       "      <td>West Yorkshire Police</td>\n",
       "      <td>-1.863065</td>\n",
       "      <td>53.939035</td>\n",
       "      <td>On or near Low Mill</td>\n",
       "      <td>E01010646</td>\n",
       "      <td>Bradford 001A</td>\n",
       "      <td>Burglary</td>\n",
       "      <td>Status update unavailable</td>\n",
       "    </tr>\n",
       "    <tr>\n",
       "      <th>2</th>\n",
       "      <td>5e22e40d676365342bb7de2869639bb05d8265316abc21...</td>\n",
       "      <td>2017-10</td>\n",
       "      <td>West Yorkshire Police</td>\n",
       "      <td>West Yorkshire Police</td>\n",
       "      <td>-1.876367</td>\n",
       "      <td>53.942950</td>\n",
       "      <td>On or near Croft House Fold</td>\n",
       "      <td>E01010646</td>\n",
       "      <td>Bradford 001A</td>\n",
       "      <td>Violence and sexual offences</td>\n",
       "      <td>Unable to prosecute suspect</td>\n",
       "    </tr>\n",
       "    <tr>\n",
       "      <th>3</th>\n",
       "      <td>48a8de992ba49e0e1c3c87c5da641b538079e0f2478bb8...</td>\n",
       "      <td>2017-10</td>\n",
       "      <td>West Yorkshire Police</td>\n",
       "      <td>West Yorkshire Police</td>\n",
       "      <td>-1.882481</td>\n",
       "      <td>53.924936</td>\n",
       "      <td>On or near Moorside Lane</td>\n",
       "      <td>E01010646</td>\n",
       "      <td>Bradford 001A</td>\n",
       "      <td>Violence and sexual offences</td>\n",
       "      <td>Unable to prosecute suspect</td>\n",
       "    </tr>\n",
       "    <tr>\n",
       "      <th>4</th>\n",
       "      <td>35f45581ef68c665f5b2c892ec6efcae0d482b6ee3e1b1...</td>\n",
       "      <td>2017-10</td>\n",
       "      <td>West Yorkshire Police</td>\n",
       "      <td>West Yorkshire Police</td>\n",
       "      <td>-1.876367</td>\n",
       "      <td>53.942950</td>\n",
       "      <td>On or near Croft House Fold</td>\n",
       "      <td>E01010646</td>\n",
       "      <td>Bradford 001A</td>\n",
       "      <td>Violence and sexual offences</td>\n",
       "      <td>Action to be taken by another organisation</td>\n",
       "    </tr>\n",
       "  </tbody>\n",
       "</table>\n",
       "</div>"
      ],
      "text/plain": [
       "                                            Crime ID    Month  \\\n",
       "0  ed5e6cc15caffcd1d1993d57dd12bd3b5462db330fc3c2...  2017-10   \n",
       "1  eae51159cf301b4fc5fe8350d4b89212455b448388e6a7...  2017-10   \n",
       "2  5e22e40d676365342bb7de2869639bb05d8265316abc21...  2017-10   \n",
       "3  48a8de992ba49e0e1c3c87c5da641b538079e0f2478bb8...  2017-10   \n",
       "4  35f45581ef68c665f5b2c892ec6efcae0d482b6ee3e1b1...  2017-10   \n",
       "\n",
       "             Reported by           Falls within  Longitude   Latitude  \\\n",
       "0  West Yorkshire Police  West Yorkshire Police  -1.764583  53.534617   \n",
       "1  West Yorkshire Police  West Yorkshire Police  -1.863065  53.939035   \n",
       "2  West Yorkshire Police  West Yorkshire Police  -1.876367  53.942950   \n",
       "3  West Yorkshire Police  West Yorkshire Police  -1.882481  53.924936   \n",
       "4  West Yorkshire Police  West Yorkshire Police  -1.876367  53.942950   \n",
       "\n",
       "                      Location  LSOA code      LSOA name  \\\n",
       "0   On or near Park/Open Space  E01007426  Barnsley 027D   \n",
       "1          On or near Low Mill  E01010646  Bradford 001A   \n",
       "2  On or near Croft House Fold  E01010646  Bradford 001A   \n",
       "3     On or near Moorside Lane  E01010646  Bradford 001A   \n",
       "4  On or near Croft House Fold  E01010646  Bradford 001A   \n",
       "\n",
       "                     Crime type                          Last outcome category  \n",
       "0                      Burglary  Investigation complete; no suspect identified  \n",
       "1                      Burglary                      Status update unavailable  \n",
       "2  Violence and sexual offences                    Unable to prosecute suspect  \n",
       "3  Violence and sexual offences                    Unable to prosecute suspect  \n",
       "4  Violence and sexual offences     Action to be taken by another organisation  "
      ]
     },
     "execution_count": 10,
     "metadata": {},
     "output_type": "execute_result"
    }
   ],
   "source": [
    "pol_dat_2017.head()"
   ]
  },
  {
   "cell_type": "code",
   "execution_count": 11,
   "metadata": {},
   "outputs": [
    {
     "data": {
      "text/plain": [
       "(245012, 11)"
      ]
     },
     "execution_count": 11,
     "metadata": {},
     "output_type": "execute_result"
    }
   ],
   "source": [
    "pol_dat_2017.shape"
   ]
  },
  {
   "cell_type": "code",
   "execution_count": 12,
   "metadata": {},
   "outputs": [],
   "source": [
    "pol_dat_2017['LSOA11CD'] = pol_dat_2017['LSOA code']\n",
    "\n",
    "pol_dat_2017.drop('LSOA code', axis=1, inplace=True)"
   ]
  },
  {
   "cell_type": "code",
   "execution_count": 13,
   "metadata": {},
   "outputs": [],
   "source": [
    "pol_dat_2017 = pd.merge(pol_dat_2017, lookup_table[['LSOA11CD','MSOA11CD']], on='LSOA11CD', how='inner').drop_duplicates()\n",
    "\n",
    "pol_dat_2017.reset_index(drop=True, inplace=True)"
   ]
  },
  {
   "cell_type": "code",
   "execution_count": 14,
   "metadata": {},
   "outputs": [],
   "source": [
    "## transform synthetic population into full population table for west yorkshire or MSOA level\n",
    "\n",
    "pop_2017 = pd.read_csv('../scrapbook/data/LeedsLADdata/ssm_E08000035_MSOA11_ppp_2017.csv')"
   ]
  },
  {
   "cell_type": "code",
   "execution_count": 15,
   "metadata": {},
   "outputs": [],
   "source": [
    "# function for loading monthly police data csvs\n",
    "\n",
    "def load_pop(year=2017, engine=\"pandas\"):\n",
    "    \n",
    "    if engine == \"pandas\":\n",
    "        \n",
    "        prefix = pd\n",
    "    \n",
    "    elif engine == \"modin\":\n",
    "        \n",
    "        prefix = pds\n",
    "    \n",
    "    file_list = glob.glob('../scrapbook/data/WYP_spenser_data/*')\n",
    "    \n",
    "    year_str = str(year)\n",
    "    \n",
    "    selected_files = [file for file in file_list if year_str in file]\n",
    "    \n",
    "    print('Number of files found: ',len(selected_files))\n",
    "    \n",
    "    files_combo = []\n",
    "    \n",
    "    for file in selected_files:\n",
    "\n",
    "            open_file = prefix.read_csv(file)\n",
    "\n",
    "            files_combo.append(open_file)\n",
    "\n",
    "    combined_files = prefix.concat(files_combo, axis=0)\n",
    "\n",
    "    combined_files.reset_index(inplace=True, drop=True)\n",
    "    \n",
    "    return combined_files"
   ]
  },
  {
   "cell_type": "code",
   "execution_count": 16,
   "metadata": {},
   "outputs": [
    {
     "name": "stdout",
     "output_type": "stream",
     "text": [
      "Number of files found:  5\n"
     ]
    }
   ],
   "source": [
    "pop_2017 = load_pop()"
   ]
  },
  {
   "cell_type": "code",
   "execution_count": 17,
   "metadata": {},
   "outputs": [],
   "source": [
    "pop_2017['multi_cat_col'] = pop_2017.DC1117EW_C_SEX.astype(str) + '-' + pop_2017.DC1117EW_C_AGE.astype(str) + '-' + pop_2017.DC2101EW_C_ETHPUK11.astype(str)"
   ]
  },
  {
   "cell_type": "code",
   "execution_count": 18,
   "metadata": {},
   "outputs": [
    {
     "data": {
      "text/plain": [
       "2-86-2    26113\n",
       "2-47-2    13437\n",
       "1-47-2    13339\n",
       "1-86-2    13295\n",
       "2-48-2    13137\n",
       "          ...  \n",
       "1-58-4        2\n",
       "2-80-4        1\n",
       "1-79-4        1\n",
       "1-78-4        1\n",
       "1-83-4        1\n",
       "Name: multi_cat_col, Length: 3095, dtype: int64"
      ]
     },
     "execution_count": 18,
     "metadata": {},
     "output_type": "execute_result"
    }
   ],
   "source": [
    "pop_2017['multi_cat_col'].value_counts()"
   ]
  },
  {
   "cell_type": "code",
   "execution_count": 19,
   "metadata": {},
   "outputs": [
    {
     "data": {
      "text/plain": [
       "2302328"
      ]
     },
     "execution_count": 19,
     "metadata": {},
     "output_type": "execute_result"
    }
   ],
   "source": [
    "pop_2017['multi_cat_col'].value_counts().sum()"
   ]
  },
  {
   "cell_type": "code",
   "execution_count": 20,
   "metadata": {},
   "outputs": [],
   "source": [
    "# get a series of proportions of demographic groups\n",
    "demographic_prop = pop_2017['multi_cat_col'].value_counts() / pop_2017['multi_cat_col'].value_counts().sum()"
   ]
  },
  {
   "cell_type": "code",
   "execution_count": 21,
   "metadata": {},
   "outputs": [
    {
     "data": {
      "text/plain": [
       "array([1.13419982e-02, 5.83626660e-03, 5.79370098e-03, ...,\n",
       "       4.34342978e-07, 4.34342978e-07, 4.34342978e-07])"
      ]
     },
     "execution_count": 21,
     "metadata": {},
     "output_type": "execute_result"
    }
   ],
   "source": [
    "demographic_prop.values"
   ]
  },
  {
   "cell_type": "code",
   "execution_count": 22,
   "metadata": {},
   "outputs": [
    {
     "data": {
      "text/plain": [
       "'1-26-2'"
      ]
     },
     "execution_count": 22,
     "metadata": {},
     "output_type": "execute_result"
    }
   ],
   "source": [
    "# random choice using proportions \n",
    "np.random.choice(demographic_prop.index, p=demographic_prop.values)"
   ]
  },
  {
   "cell_type": "code",
   "execution_count": 23,
   "metadata": {},
   "outputs": [],
   "source": [
    "pol_dat_2017['victim_profile'] = pol_dat_2017.apply(lambda x: np.random.choice(demographic_prop.index, p=demographic_prop.values), axis=1)"
   ]
  },
  {
   "cell_type": "code",
   "execution_count": 27,
   "metadata": {},
   "outputs": [],
   "source": [
    "# get proportions of populations and check they approximately match\n",
    "\n",
    "generated_demo_prop = pol_dat_2017['victim_profile'].value_counts() / pol_dat_2017['victim_profile'].value_counts().sum()\n",
    "\n",
    "actual_demo_prop = pop_2017['multi_cat_col'].value_counts() / pop_2017['multi_cat_col'].value_counts().sum()\n"
   ]
  },
  {
   "cell_type": "code",
   "execution_count": 29,
   "metadata": {},
   "outputs": [
    {
     "name": "stderr",
     "output_type": "stream",
     "text": [
      "FutureWarning: Sorting because non-concatenation axis is not aligned. A future version\n",
      "of pandas will change to not sort by default.\n",
      "\n",
      "To accept the future behavior, pass 'sort=False'.\n",
      "\n",
      "To retain the current behavior and silence the warning, pass 'sort=True'.\n",
      "\n"
     ]
    },
    {
     "data": {
      "image/png": "[encoded data removed]",
      "text/plain": [
       "<Figure size 432x288 with 1 Axes>"
      ]
     },
     "metadata": {
      "needs_background": "light"
     },
     "output_type": "display_data"
    }
   ],
   "source": [
    "counts_compare = pd.concat([generated_demo_prop, actual_demo_prop], axis=1)\n",
    "\n",
    "counts_compare.columns = ['random_sampled','2017_synthetic_pop']\n",
    "\n",
    "counts_compare.sort_values(by=['random_sampled','2017_synthetic_pop'], ascending=False)[:15].plot.bar()\n",
    "\n",
    "plt.title('Comparing randomly allocated and \\n actual demographic proportions')\n",
    "\n",
    "plt.savefig('outputs/random_victim_profiles_top10.png', format='png', bbox_inches='tight')"
   ]
  },
  {
   "cell_type": "code",
   "execution_count": 26,
   "metadata": {},
   "outputs": [
    {
     "data": {
      "text/html": [
       "<div>\n",
       "<style scoped>\n",
       "    .dataframe tbody tr th:only-of-type {\n",
       "        vertical-align: middle;\n",
       "    }\n",
       "\n",
       "    .dataframe tbody tr th {\n",
       "        vertical-align: top;\n",
       "    }\n",
       "\n",
       "    .dataframe thead th {\n",
       "        text-align: right;\n",
       "    }\n",
       "</style>\n",
       "<table border=\"1\" class=\"dataframe\">\n",
       "  <thead>\n",
       "    <tr style=\"text-align: right;\">\n",
       "      <th></th>\n",
       "      <th>Crime ID</th>\n",
       "      <th>Month</th>\n",
       "      <th>Reported by</th>\n",
       "      <th>Falls within</th>\n",
       "      <th>Longitude</th>\n",
       "      <th>Latitude</th>\n",
       "      <th>Location</th>\n",
       "      <th>LSOA name</th>\n",
       "      <th>Crime type</th>\n",
       "      <th>Last outcome category</th>\n",
       "      <th>LSOA11CD</th>\n",
       "      <th>MSOA11CD</th>\n",
       "      <th>victim_profile</th>\n",
       "    </tr>\n",
       "  </thead>\n",
       "  <tbody>\n",
       "    <tr>\n",
       "      <th>0</th>\n",
       "      <td>ed5e6cc15caffcd1d1993d57dd12bd3b5462db330fc3c2...</td>\n",
       "      <td>2017-10</td>\n",
       "      <td>West Yorkshire Police</td>\n",
       "      <td>West Yorkshire Police</td>\n",
       "      <td>-1.764583</td>\n",
       "      <td>53.534617</td>\n",
       "      <td>On or near Park/Open Space</td>\n",
       "      <td>Barnsley 027D</td>\n",
       "      <td>Burglary</td>\n",
       "      <td>Investigation complete; no suspect identified</td>\n",
       "      <td>E01007426</td>\n",
       "      <td>E02001535</td>\n",
       "      <td>2-48-2</td>\n",
       "    </tr>\n",
       "    <tr>\n",
       "      <th>1</th>\n",
       "      <td>3d074ff1d8ea40781b1eae18dcda27e94c33cca0da31df...</td>\n",
       "      <td>2017-03</td>\n",
       "      <td>West Yorkshire Police</td>\n",
       "      <td>West Yorkshire Police</td>\n",
       "      <td>-1.670108</td>\n",
       "      <td>53.553629</td>\n",
       "      <td>On or near Huddersfield Road</td>\n",
       "      <td>Barnsley 027D</td>\n",
       "      <td>Other theft</td>\n",
       "      <td>Investigation complete; no suspect identified</td>\n",
       "      <td>E01007426</td>\n",
       "      <td>E02001535</td>\n",
       "      <td>1-82-2</td>\n",
       "    </tr>\n",
       "    <tr>\n",
       "      <th>2</th>\n",
       "      <td>e214a5b554799a92b2e95512274001928bceb1d677b1cf...</td>\n",
       "      <td>2017-03</td>\n",
       "      <td>West Yorkshire Police</td>\n",
       "      <td>West Yorkshire Police</td>\n",
       "      <td>-1.724364</td>\n",
       "      <td>53.557200</td>\n",
       "      <td>On or near Hey Slack Lane</td>\n",
       "      <td>Barnsley 027D</td>\n",
       "      <td>Other theft</td>\n",
       "      <td>Investigation complete; no suspect identified</td>\n",
       "      <td>E01007426</td>\n",
       "      <td>E02001535</td>\n",
       "      <td>1-42-2</td>\n",
       "    </tr>\n",
       "    <tr>\n",
       "      <th>3</th>\n",
       "      <td>dc49a93f22f277264513f4bd9861b273ae99a571e7909d...</td>\n",
       "      <td>2017-07</td>\n",
       "      <td>West Yorkshire Police</td>\n",
       "      <td>West Yorkshire Police</td>\n",
       "      <td>-1.706334</td>\n",
       "      <td>53.549364</td>\n",
       "      <td>On or near Brown'S Edge Road</td>\n",
       "      <td>Barnsley 027D</td>\n",
       "      <td>Burglary</td>\n",
       "      <td>Investigation complete; no suspect identified</td>\n",
       "      <td>E01007426</td>\n",
       "      <td>E02001535</td>\n",
       "      <td>2-86-2</td>\n",
       "    </tr>\n",
       "    <tr>\n",
       "      <th>4</th>\n",
       "      <td>e3f824bdf749192c3fdcc80d3099b03bc8d8d9436a9c1c...</td>\n",
       "      <td>2017-07</td>\n",
       "      <td>West Yorkshire Police</td>\n",
       "      <td>West Yorkshire Police</td>\n",
       "      <td>-1.670108</td>\n",
       "      <td>53.553629</td>\n",
       "      <td>On or near Huddersfield Road</td>\n",
       "      <td>Barnsley 027D</td>\n",
       "      <td>Theft from the person</td>\n",
       "      <td>Investigation complete; no suspect identified</td>\n",
       "      <td>E01007426</td>\n",
       "      <td>E02001535</td>\n",
       "      <td>1-25-2</td>\n",
       "    </tr>\n",
       "  </tbody>\n",
       "</table>\n",
       "</div>"
      ],
      "text/plain": [
       "                                            Crime ID    Month  \\\n",
       "0  ed5e6cc15caffcd1d1993d57dd12bd3b5462db330fc3c2...  2017-10   \n",
       "1  3d074ff1d8ea40781b1eae18dcda27e94c33cca0da31df...  2017-03   \n",
       "2  e214a5b554799a92b2e95512274001928bceb1d677b1cf...  2017-03   \n",
       "3  dc49a93f22f277264513f4bd9861b273ae99a571e7909d...  2017-07   \n",
       "4  e3f824bdf749192c3fdcc80d3099b03bc8d8d9436a9c1c...  2017-07   \n",
       "\n",
       "             Reported by           Falls within  Longitude   Latitude  \\\n",
       "0  West Yorkshire Police  West Yorkshire Police  -1.764583  53.534617   \n",
       "1  West Yorkshire Police  West Yorkshire Police  -1.670108  53.553629   \n",
       "2  West Yorkshire Police  West Yorkshire Police  -1.724364  53.557200   \n",
       "3  West Yorkshire Police  West Yorkshire Police  -1.706334  53.549364   \n",
       "4  West Yorkshire Police  West Yorkshire Police  -1.670108  53.553629   \n",
       "\n",
       "                       Location      LSOA name             Crime type  \\\n",
       "0    On or near Park/Open Space  Barnsley 027D               Burglary   \n",
       "1  On or near Huddersfield Road  Barnsley 027D            Other theft   \n",
       "2     On or near Hey Slack Lane  Barnsley 027D            Other theft   \n",
       "3  On or near Brown'S Edge Road  Barnsley 027D               Burglary   \n",
       "4  On or near Huddersfield Road  Barnsley 027D  Theft from the person   \n",
       "\n",
       "                           Last outcome category   LSOA11CD   MSOA11CD  \\\n",
       "0  Investigation complete; no suspect identified  E01007426  E02001535   \n",
       "1  Investigation complete; no suspect identified  E01007426  E02001535   \n",
       "2  Investigation complete; no suspect identified  E01007426  E02001535   \n",
       "3  Investigation complete; no suspect identified  E01007426  E02001535   \n",
       "4  Investigation complete; no suspect identified  E01007426  E02001535   \n",
       "\n",
       "  victim_profile  \n",
       "0         2-48-2  \n",
       "1         1-82-2  \n",
       "2         1-42-2  \n",
       "3         2-86-2  \n",
       "4         1-25-2  "
      ]
     },
     "execution_count": 26,
     "metadata": {},
     "output_type": "execute_result"
    }
   ],
   "source": [
    "pol_dat_2017.head()"
   ]
  },
  {
   "cell_type": "code",
   "execution_count": null,
   "metadata": {},
   "outputs": [],
   "source": [
    "# we'll assume victim profile is separated in data frame so will separate this combined values\n",
    "\n",
    "expanded_demo = pol_dat_2017['victim_profile'].str.split('-', expand=True)\n",
    "\n",
    "expanded_demo.columns = ['sex','age','ethnicity']\n",
    "\n",
    "pol_dat_2017 = pd.concat([pol_dat_2017, expanded_demo], axis=1)"
   ]
  },
  {
   "cell_type": "code",
   "execution_count": null,
   "metadata": {},
   "outputs": [],
   "source": [
    "pol_dat_2017.head()"
   ]
  },
  {
   "cell_type": "code",
   "execution_count": 131,
   "metadata": {},
   "outputs": [],
   "source": [
    "# save this file out as a .csv \n",
    "\n",
    "pol_dat_2017.to_csv('data/2017_WY_crimes_victimdemo.csv', index=None)"
   ]
  }
 ],
 "metadata": {
  "kernelspec": {
   "display_name": "Python 3",
   "language": "python",
   "name": "python3"
  },
  "language_info": {
   "codemirror_mode": {
    "name": "ipython",
    "version": 3
   },
   "file_extension": ".py",
   "mimetype": "text/x-python",
   "name": "python",
   "nbconvert_exporter": "python",
   "pygments_lexer": "ipython3",
   "version": "3.7.6"
  }
 },
 "nbformat": 4,
 "nbformat_minor": 4
}
