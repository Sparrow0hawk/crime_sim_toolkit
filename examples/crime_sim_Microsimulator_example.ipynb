{
 "cells": [
  {
   "cell_type": "markdown",
   "metadata": {
    "colab_type": "text",
    "id": "view-in-github"
   },
   "source": [
    "<a href=\"https://colab.research.google.com/github/Sparrow0hawk/crime_sim_toolkit/blob/develop/examples/crime_sim_poisson_agg_example.ipynb\" target=\"_parent\"><img src=\"https://colab.research.google.com/assets/colab-badge.svg\" alt=\"Open In Colab\"/></a>"
   ]
  },
  {
   "cell_type": "markdown",
   "metadata": {
    "colab_type": "text",
    "id": "XgFA3CtTbiwQ"
   },
   "source": [
    "# Example notebook for using the crime_sim_toolkit Microsimulator Class\n",
    "\n",
    "Follow these steps to load your own data into the crime_sim_toolkit for simulating crime demand using the Microsimulator Class.\n",
    "\n",
    "## Notes on running\n",
    "For this to run successfully follow these steps:\n",
    "\n",
    "\n",
    "1.   Git clone the repo into the root dir\n",
    "2.   Run pip install within the downloaded repo\n",
    "3.   Reset the local runtime to allow for pip packages installed to work\n",
    "4.   Then run python setup.py install on downloaded repo\n",
    "\n",
    "The package should now be useable within the notebook.\n",
    "\n"
   ]
  },
  {
   "cell_type": "code",
   "execution_count": 1,
   "metadata": {
    "colab": {
     "base_uri": "https://localhost:8080/",
     "height": 156
    },
    "colab_type": "code",
    "id": "Aha_nz-SRX56",
    "outputId": "a7b77f87-9907-4cb0-d785-22dea9729b06"
   },
   "outputs": [
    {
     "name": "stdout",
     "output_type": "stream",
     "text": [
      "/root\n",
      "Cloning into 'crime_sim_toolkit'...\n",
      "remote: Enumerating objects: 372, done.\u001b[K\n",
      "remote: Counting objects: 100% (372/372), done.\u001b[K\n",
      "remote: Compressing objects: 100% (179/179), done.\u001b[K\n",
      "remote: Total 1039 (delta 262), reused 283 (delta 193), pack-reused 667\u001b[K\n",
      "Receiving objects: 100% (1039/1039), 49.20 MiB | 29.51 MiB/s, done.\n",
      "Resolving deltas: 100% (666/666), done.\n"
     ]
    }
   ],
   "source": [
    "%cd ~/\n",
    "\n",
    "! git clone --single-branch --branch develop https://github.com/Sparrow0hawk/crime_sim_toolkit.git"
   ]
  },
  {
   "cell_type": "code",
   "execution_count": 2,
   "metadata": {
    "colab": {
     "base_uri": "https://localhost:8080/",
     "height": 330
    },
    "colab_type": "code",
    "id": "J6ezywTXRnbX",
    "outputId": "a3a3d8d8-acfd-4031-b911-7bbffd0a251a"
   },
   "outputs": [
    {
     "name": "stdout",
     "output_type": "stream",
     "text": [
      "/root/crime_sim_toolkit\n",
      "\u001b[K     |████████████████████████████████| 215kB 6.6MB/s \n",
      "\u001b[K     |████████████████████████████████| 92kB 24.0MB/s \n",
      "\u001b[K     |████████████████████████████████| 13.1MB 49.1MB/s \n",
      "\u001b[K     |████████████████████████████████| 20.4MB 32.4MB/s \n",
      "\u001b[K     |████████████████████████████████| 10.5MB 26.4MB/s \n",
      "\u001b[K     |████████████████████████████████| 235kB 46.3MB/s \n",
      "\u001b[K     |████████████████████████████████| 512kB 41.9MB/s \n",
      "\u001b[K     |████████████████████████████████| 61kB 16.0MB/s \n",
      "\u001b[K     |████████████████████████████████| 25.2MB 1.3MB/s \n",
      "\u001b[K     |████████████████████████████████| 153kB 47.0MB/s \n",
      "\u001b[31mERROR: kaggle 1.5.5 has requirement urllib3<1.25,>=1.21.1, but you'll have urllib3 1.25.3 which is incompatible.\u001b[0m\n",
      "\u001b[31mERROR: google-colab 1.0.0 has requirement pandas~=0.24.0, but you'll have pandas 0.25.0 which is incompatible.\u001b[0m\n",
      "\u001b[31mERROR: google-colab 1.0.0 has requirement requests~=2.21.0, but you'll have requests 2.22.0 which is incompatible.\u001b[0m\n",
      "\u001b[31mERROR: datascience 0.10.6 has requirement coverage==3.7.1, but you'll have coverage 4.5.4 which is incompatible.\u001b[0m\n",
      "\u001b[31mERROR: datascience 0.10.6 has requirement folium==0.2.1, but you'll have folium 0.10.0 which is incompatible.\u001b[0m\n",
      "\u001b[31mERROR: coveralls 0.5 has requirement coverage<3.999,>=3.6, but you'll have coverage 4.5.4 which is incompatible.\u001b[0m\n",
      "\u001b[31mERROR: albumentations 0.1.12 has requirement imgaug<0.2.7,>=0.2.5, but you'll have imgaug 0.2.9 which is incompatible.\u001b[0m\n",
      "\u001b[?25h"
     ]
    }
   ],
   "source": [
    "%cd ~/crime_sim_toolkit\n",
    "\n",
    "!pip install -q -r requirements.txt"
   ]
  },
  {
   "cell_type": "markdown",
   "metadata": {
    "colab_type": "text",
    "id": "3Nf4DMs2YRkE"
   },
   "source": [
    "# RESTART RUNTIME"
   ]
  },
  {
   "cell_type": "code",
   "execution_count": 1,
   "metadata": {
    "colab": {
     "base_uri": "https://localhost:8080/",
     "height": 34
    },
    "colab_type": "code",
    "id": "bD-ZF-Hya4Lq",
    "outputId": "4af8b216-6f7b-4e04-f392-c8858cc60c4d"
   },
   "outputs": [
    {
     "name": "stdout",
     "output_type": "stream",
     "text": [
      "/root/crime_sim_toolkit\n"
     ]
    }
   ],
   "source": [
    "%cd ~/crime_sim_toolkit\n",
    "\n",
    "!python setup.py -q install"
   ]
  },
  {
   "cell_type": "markdown",
   "metadata": {
    "colab_type": "text",
    "id": "AFxm7U4JmFNy"
   },
   "source": [
    "## Loading data\n",
    "\n",
    "Using data from a [custom dowload](https://data.police.uk/data/) from Police Data UK we can load that data, covert it to counts by crime_type by LSOA by psuedo Week/Day by passing the directory to the Poisson_sim function.\n",
    "\n",
    "Sample data used here is included within the [github repository](https://github.com/Sparrow0hawk/crime_sim_toolkit/tree/master/sample_data) and covers January-June from 2017-2019.\n",
    "\n",
    "Here the aggregate function is set to true. Aggregating data up to the police force area."
   ]
  },
  {
   "cell_type": "code",
   "execution_count": 2,
   "metadata": {
    "colab": {
     "base_uri": "https://localhost:8080/",
     "height": 139
    },
    "colab_type": "code",
    "id": "Ie_tNRIYSFTe",
    "outputId": "d81ef32c-5b13-4ab0-a657-0d8291f78929"
   },
   "outputs": [
    {
     "name": "stdout",
     "output_type": "stream",
     "text": [
      " \n",
      "Fetching count data from police reports.\n",
      "Sit back and have a brew, this may take sometime.\n",
      " \n",
      "Number of data files found:  18\n",
      "Psuedo days allocated to all reports.\n",
      "Datetime column configured.\n"
     ]
    }
   ],
   "source": [
    "import crime_sim_toolkit.microsim as Microsim\n",
    "\n",
    "\n",
    "simulation_0 = Microsim.Microsimulator()"
   ]
  },
  {
   "cell_type": "code",
   "execution_count": null,
   "metadata": {},
   "outputs": [],
   "source": [
    "# first load crime data\n",
    "simulation_0.load_data(year = 2017.0, directory = \"string/to/directory\")\n",
    "\n",
    "simulation_0.crime_data.head()"
   ]
  },
  {
   "cell_type": "code",
   "execution_count": null,
   "metadata": {},
   "outputs": [],
   "source": []
  }
 ],
 "metadata": {
  "colab": {
   "collapsed_sections": [],
   "include_colab_link": true,
   "name": "crime_sim_poisson_example.ipynb",
   "provenance": []
  },
  "kernelspec": {
   "display_name": "Python 3",
   "language": "python",
   "name": "python3"
  },
  "language_info": {
   "codemirror_mode": {
    "name": "ipython",
    "version": 3
   },
   "file_extension": ".py",
   "mimetype": "text/x-python",
   "name": "python",
   "nbconvert_exporter": "python",
   "pygments_lexer": "ipython3",
   "version": "3.7.6"
  }
 },
 "nbformat": 4,
 "nbformat_minor": 4
}
